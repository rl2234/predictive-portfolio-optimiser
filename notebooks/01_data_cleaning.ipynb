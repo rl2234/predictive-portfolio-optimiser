{
 "cells": [
  {
   "cell_type": "code",
   "execution_count": 70,
   "id": "41d0f970",
   "metadata": {},
   "outputs": [],
   "source": [
    "import yfinance as yf\n",
    "import pandas as pd\n",
    "import os\n",
    "\n",
    "tickers = (\"AAPL\", \"ABBV\", \"ABT\", \"ACN\", \"ADBE\", \"AIG\", \"AMD\", \"AMGN\", \"AMT\", \"AMZN\",\n",
    "    \"AVGO\", \"AXP\", \"BA\", \"BAC\", \"BK\", \"BKNG\", \"BLK\", \"BMY\", \"BRK-B\",\n",
    "    \"C\", \"CAT\", \"CHTR\", \"CL\", \"CMCSA\", \"COF\", \"COP\", \"COST\", \"CRM\", \"CSCO\",\n",
    "    \"CVS\", \"CVX\", \"DE\", \"DHR\", \"DIS\", \"DUK\", \"EMR\", \"FDX\", \"GD\",\n",
    "    \"GE\", \"GILD\", \"GM\", \"GOOGL\", \"GS\", \"HD\", \"HON\", \"IBM\", \"INTC\", \"INTU\",\n",
    "    \"ISRG\",\"JNJ\", \"JPM\", \"KO\", \"LIN\", \"LLY\", \"LMT\", \"LOW\", \"MA\", \"MCD\",\n",
    "    \"MDLZ\", \"MDT\", \"MET\", \"META\", \"MMM\", \"MO\", \"MRK\", \"MS\", \"MSFT\", \"NEE\", \"NFLX\", \"NKE\", \"NOW\",\n",
    "    \"NVDA\", \"ORCL\", \"PEP\", \"PFE\", \"PG\",\"PLTR\", \"PM\", \"PYPL\", \"QCOM\", \"RTX\", \"SBUX\",\n",
    "    \"SCHW\", \"SO\", \"SPG\", \"T\", \"TGT\", \"TMO\", \"TMUS\", \"TSLA\", \"TXN\", \"UNH\", \"UNP\", \"UPS\", \"USB\",\n",
    "    \"V\", \"VZ\", \"WFC\", \"WMT\", \"XOM\")"
   ]
  },
  {
   "cell_type": "code",
   "execution_count": 71,
   "id": "8603e7bb",
   "metadata": {},
   "outputs": [
    {
     "name": "stderr",
     "output_type": "stream",
     "text": [
      "[*********************100%***********************]  100 of 100 completed\n"
     ]
    }
   ],
   "source": [
    "# Import 10 years of historic data to store in data/raw using yfinance to fetch OHLCV (Open, High, Low, Close, Volume) data\n",
    "\n",
    "path = os.path.join(\"..\", \"data\", \"raw\")\n",
    "clean_path = os.path.join(\"..\", \"data\", \"processed\")\n",
    "\n",
    "import_data = yf.download(tickers, start = \"2015-01-01\", end = \"2024-12-31\", auto_adjust = False)\n",
    "import_data.to_csv(os.path.join(path, \"import_data.csv\"))\n",
    "\n",
    "for ticker in tickers:\n",
    "    dataframe = import_data.xs(ticker, level = 1, axis = 1)\n",
    "    dataframe.to_csv(os.path.join(path, f\"{ticker}.csv\"))"
   ]
  },
  {
   "cell_type": "code",
   "execution_count": 72,
   "id": "e647897c",
   "metadata": {},
   "outputs": [],
   "source": [
    "# Pre-processing data, handle missing values/non-trading days\n",
    "\n",
    "for file in os.listdir(path):\n",
    "    file_path = os.path.join(path, file)\n",
    "    clean_data = pd.read_csv(file_path, low_memory = False)\n",
    "    clean_data.ffill(inplace = True)\n",
    "    clean_data.bfill(inplace = True)  \n",
    "    clean_data.to_csv(os.path.join(clean_path, file), index = False)"
   ]
  },
  {
   "cell_type": "code",
   "execution_count": 73,
   "id": "0ca9d7b4",
   "metadata": {},
   "outputs": [],
   "source": [
    "# Save cleaned data to /data/processed/\n",
    "\n",
    "for file in os.listdir(clean_path):\n",
    "    clean_file_path = os.path.join(clean_path, file)\n",
    "    if os.path.isdir(clean_file_path):\n",
    "        continue\n",
    "    \n",
    "    new_data = pd.read_csv(clean_file_path, low_memory = False)\n",
    "    new_data['Adj Close'] = pd.to_numeric(new_data['Adj Close'], errors = 'coerce')\n",
    "    new_data = new_data.drop(columns=['Open', 'High', 'Low', 'Close', 'Volume'])\n",
    "\n",
    "    new_data.to_csv(clean_file_path, index = False) \n",
    "    final_path = os.path.join(\"..\", \"data\", \"processed\", file)\n",
    "    new_data.to_csv(final_path, index = False)  "
   ]
  },
  {
   "cell_type": "code",
   "execution_count": 74,
   "id": "14c26277",
   "metadata": {},
   "outputs": [],
   "source": [
    "# Create the return column\n",
    "\n",
    "tickers = [ticker for ticker in os.listdir(clean_path) if ticker.endswith('.csv')]\n",
    "\n",
    "for ticker in tickers:\n",
    "    file_path = os.path.join(clean_path, ticker)\n",
    "    data = pd.read_csv(file_path, low_memory = False)\n",
    "    \n",
    "    data[\"Return\"] = data['Adj Close'].pct_change()\n",
    "    data.to_csv(file_path, index = False)"
   ]
  }
 ],
 "metadata": {
  "kernelspec": {
   "display_name": ".venv",
   "language": "python",
   "name": "python3"
  },
  "language_info": {
   "codemirror_mode": {
    "name": "ipython",
    "version": 3
   },
   "file_extension": ".py",
   "mimetype": "text/x-python",
   "name": "python",
   "nbconvert_exporter": "python",
   "pygments_lexer": "ipython3",
   "version": "3.11.9"
  }
 },
 "nbformat": 4,
 "nbformat_minor": 5
}
