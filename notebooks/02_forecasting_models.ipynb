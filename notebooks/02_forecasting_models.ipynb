{
 "cells": [
  {
   "cell_type": "code",
   "execution_count": 1,
   "id": "4206791c",
   "metadata": {},
   "outputs": [
    {
     "data": {
      "text/plain": [
       "'\\nimport pmdarima as pm\\nimport os\\nimport pandas as pd\\n\\nclean_path = os.path.join(\"..\", \"data\", \"processed\")\\ntickers = [ticker for ticker in os.listdir(clean_path) if ticker.endswith(\\'.csv\\')]\\nforecast_results = {}\\n\\n# Forecasting next n days for each ticker\\nfor ticker in tickers:\\n    file_path = os.path.join(clean_path, ticker)\\n    cols = pd.read_csv(file_path, nrows=0).columns\\n    if ticker == \"import_data.csv\":\\n        continue\\n    data = pd.read_csv(file_path, parse_dates=[\"Date\"], index_col=\"Date\", low_memory=False)\\n    data = data.asfreq(\\'B\\').ffill()\\n    returns = data[\"Return\"].dropna()\\n    model = pm.auto_arima(returns, start_p=0, d=None, start_q=0, max_p=3, max_q=3, seasonal=False, stepwise=True, suppress_warnings=True, n_jobs=1)\\n    forecast_vals = model.predict(steps=10)\\n    forecast_i = pd.bdate_range(start=returns.index[-1] + pd.offsets.BDay(1), periods=10, freq=\\'B\\')\\n    forecast = pd.Series(forecast_vals, index=forecast_i)\\n    forecast_results[ticker] = forecast\\n    print(\"finished!\")\\nprint(forecast_results)\\n\\n# Saving the forecast results to a CSV file \\nforecast_df = pd.DataFrame(forecast_results)\\noutput_path = os.path.join(\"..\", \"data\", \"forecasts\", \"forecasted_returns.csv\")\\nforecast_df.to_csv(output_path)  \\n    \\n# Getting the diagram for how it looks\\n# Printing a prediction for whether or not its a good idea to invest or not\\n'"
      ]
     },
     "execution_count": 1,
     "metadata": {},
     "output_type": "execute_result"
    }
   ],
   "source": [
    "'''\n",
    "plt.figure(figsize=(26, 6))\n",
    "data['Adj Close'].plot(x = 250, y = 10, linewidth = 0.8)\n",
    "plt.show()\n",
    "\n",
    "from statsmodels.graphics.tsaplots import plot_acf, plot_pacf\n",
    "acf_original = plot_acf(data['Adj Close'])\n",
    "pacf_original = plot_pacf(data['Adj Close'])\n",
    "\n",
    "# adf test\n",
    "from statsmodels.tsa.stattools import adfuller\n",
    "adf_result = adfuller(data['Adj Close'])\n",
    "print(\"ADF Statistic:\", adf_result[1])\n",
    "# fails to reject null hypothesis at 5% sig level, non-stationary\n",
    "\n",
    "transforming to stationary (stabilise mean)\n",
    "df_train_diff = data['Adj Close'].diff().dropna()\n",
    "df_train_diff.plot()\n",
    "\n",
    "acf_diff = plot_acf(df_train_diff)\n",
    "pacf_diff = plot_pacf(df_train_diff)\n",
    "\n",
    "adf_result_diff = adfuller(df_train_diff)\n",
    "print(\"ADF Statistic (differenced):\", adf_result_diff[1])\n",
    "# reject null hypothesis at a 5% significance level, stationary\n",
    "\n",
    "# make time series predictions\n",
    "\n",
    "import matplotlib.pyplot as plt\n",
    "residuals = model_fit.resid[1:]\n",
    "fig, ax = plt.subplots(1,2)\n",
    "residuals.plot(title = \"Residuals\", ax = ax[0])\n",
    "residuals.plot(kind = 'kde', title = \"Density\", ax = ax[1])\n",
    "plt.show()\n",
    "\n",
    "\n",
    "plot_acf(residuals)\n",
    "plot_pacf(residuals)\n",
    "plt.show()\n",
    "'''\n",
    "'''\n",
    "import pmdarima as pm\n",
    "import os\n",
    "import pandas as pd\n",
    "\n",
    "clean_path = os.path.join(\"..\", \"data\", \"processed\")\n",
    "tickers = [ticker for ticker in os.listdir(clean_path) if ticker.endswith('.csv')]\n",
    "forecast_results = {}\n",
    "\n",
    "# Forecasting next n days for each ticker\n",
    "for ticker in tickers:\n",
    "    file_path = os.path.join(clean_path, ticker)\n",
    "    cols = pd.read_csv(file_path, nrows=0).columns\n",
    "    if ticker == \"import_data.csv\":\n",
    "        continue\n",
    "    data = pd.read_csv(file_path, parse_dates=[\"Date\"], index_col=\"Date\", low_memory=False)\n",
    "    data = data.asfreq('B').ffill()\n",
    "    returns = data[\"Return\"].dropna()\n",
    "    model = pm.auto_arima(returns, start_p=0, d=None, start_q=0, max_p=3, max_q=3, seasonal=False, stepwise=True, suppress_warnings=True, n_jobs=1)\n",
    "    forecast_vals = model.predict(steps=10)\n",
    "    forecast_i = pd.bdate_range(start=returns.index[-1] + pd.offsets.BDay(1), periods=10, freq='B')\n",
    "    forecast = pd.Series(forecast_vals, index=forecast_i)\n",
    "    forecast_results[ticker] = forecast\n",
    "    print(\"finished!\")\n",
    "print(forecast_results)\n",
    "\n",
    "# Saving the forecast results to a CSV file \n",
    "forecast_df = pd.DataFrame(forecast_results)\n",
    "output_path = os.path.join(\"..\", \"data\", \"forecasts\", \"forecasted_returns.csv\")\n",
    "forecast_df.to_csv(output_path)  \n",
    "    \n",
    "# Getting the diagram for how it looks\n",
    "# Printing a prediction for whether or not its a good idea to invest or not\n",
    "'''"
   ]
  },
  {
   "cell_type": "code",
   "execution_count": 3,
   "id": "4ff92b79",
   "metadata": {},
   "outputs": [
    {
     "name": "stdout",
     "output_type": "stream",
     "text": [
      "             ret_hat  ret_lower  ret_upper\n",
      "Date                                      \n",
      "2024-12-31  0.001854  -0.032823   0.036532\n",
      "2025-01-01  0.001043  -0.033685   0.035771\n",
      "2025-01-02  0.001043  -0.033685   0.035771\n",
      "2025-01-03  0.001043  -0.033685   0.035771\n",
      "2025-01-06  0.001043  -0.033685   0.035771\n",
      "2025-01-07  0.001043  -0.033685   0.035771\n",
      "2025-01-08  0.001043  -0.033685   0.035771\n",
      "2025-01-09  0.001043  -0.033685   0.035771\n",
      "2025-01-10  0.001043  -0.033685   0.035771\n",
      "2025-01-13  0.001043  -0.033685   0.035771\n",
      "                  yhat\n",
      "Date                  \n",
      "2024-12-31  251.773917\n",
      "2025-01-01  252.036476\n",
      "2025-01-02  252.299309\n",
      "2025-01-03  252.562416\n",
      "2025-01-06  252.825798\n",
      "2025-01-07  253.089454\n",
      "2025-01-08  253.353385\n",
      "2025-01-09  253.617591\n",
      "2025-01-10  253.882073\n",
      "2025-01-13  254.146830\n"
     ]
    }
   ],
   "source": [
    "import os\n",
    "import pandas as pd, numpy as np\n",
    "import pmdarima as pm\n",
    "\n",
    "clean_path = os.path.join(\"..\", \"data\", \"processed\") \n",
    "\n",
    "def forecast_ticker(ticker, n_steps):\n",
    "    path = os.path.join(\"..\", \"data\", \"processed\") \n",
    "    file_path = os.path.join(path, f\"{ticker}.csv\")\n",
    "    df = pd.read_csv(file_path, parse_dates=[\"Date\"], index_col=\"Date\", low_memory=False).asfreq(\"B\").ffill()\n",
    "\n",
    "    price_col = \"Adj Close\"\n",
    "\n",
    "    returns = df[\"Return\"].dropna()\n",
    "    last_price = float(df[price_col].iloc[-1])\n",
    "\n",
    "    model = pm.auto_arima(returns, start_p=0, start_q=0, max_p=3, max_q=3, d=None, seasonal=False, stepwise=True, suppress_warnings=True, n_jobs=1)\n",
    "\n",
    "    vals, confi = model.predict(n_periods=int(n_steps), return_conf_int=True, alpha=0.05)\n",
    "    idx = pd.bdate_range(start=returns.index[-1] + pd.offsets.BDay(1), periods=int(n_steps), freq=\"B\")\n",
    "\n",
    "    fc_returns = pd.DataFrame({\"ret_hat\": vals, \"ret_lower\": confi[:,0], \"ret_upper\": confi[:,1]}, index=idx)\n",
    "    fc_returns.index.name = \"Date\"\n",
    "\n",
    "    cumu = (1.0 + pd.Series(fc_returns[\"ret_hat\"].values, index=idx)).cumprod()\n",
    "    fc_price = pd.DataFrame({\"yhat\": last_price * cumu}, index=idx)\n",
    "    fc_price.index.name = \"Date\"\n",
    "    return fc_returns, fc_price\n",
    "\n",
    "# quick test\n",
    "TICKER, N = \"AAPL\", 10\n",
    "ret, px = forecast_ticker(TICKER, N)\n",
    "print(ret)\n",
    "print(px)"
   ]
  },
  {
   "cell_type": "code",
   "execution_count": null,
   "id": "1585227e",
   "metadata": {},
   "outputs": [
    {
     "name": "stdout",
     "output_type": "stream",
     "text": [
      "<riskfolio.src.Portfolio.Portfolio object at 0x00000227600ABC80>\n"
     ]
    }
   ],
   "source": [
    "import riskfolio as rf\n",
    "port = rf.Portfolio(returns=[1,2,3])\n",
    "print(port)"
   ]
  }
 ],
 "metadata": {
  "kernelspec": {
   "display_name": ".venv",
   "language": "python",
   "name": "python3"
  },
  "language_info": {
   "codemirror_mode": {
    "name": "ipython",
    "version": 3
   },
   "file_extension": ".py",
   "mimetype": "text/x-python",
   "name": "python",
   "nbconvert_exporter": "python",
   "pygments_lexer": "ipython3",
   "version": "3.11.9"
  }
 },
 "nbformat": 4,
 "nbformat_minor": 5
}
