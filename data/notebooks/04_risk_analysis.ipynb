{
 "cells": [
  {
   "cell_type": "code",
   "execution_count": null,
   "id": "ea308553",
   "metadata": {},
   "outputs": [],
   "source": [
    "# historical VaR"
   ]
  },
  {
   "cell_type": "code",
   "execution_count": null,
   "id": "e057b741",
   "metadata": {},
   "outputs": [],
   "source": [
    "# parametric VaR"
   ]
  },
  {
   "cell_type": "code",
   "execution_count": null,
   "id": "4f97780b",
   "metadata": {},
   "outputs": [],
   "source": [
    "# conditional VaR"
   ]
  },
  {
   "cell_type": "code",
   "execution_count": null,
   "id": "6a7ef866",
   "metadata": {},
   "outputs": [],
   "source": [
    "# Monte Carlo simulation"
   ]
  }
 ],
 "metadata": {
  "language_info": {
   "name": "python"
  }
 },
 "nbformat": 4,
 "nbformat_minor": 5
}
