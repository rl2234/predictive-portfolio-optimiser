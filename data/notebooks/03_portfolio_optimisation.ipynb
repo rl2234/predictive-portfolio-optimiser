{
 "cells": [
  {
   "cell_type": "code",
   "execution_count": null,
   "id": "2852e2d7",
   "metadata": {},
   "outputs": [],
   "source": [
    "# compute log returns"
   ]
  },
  {
   "cell_type": "code",
   "execution_count": null,
   "id": "831faed0",
   "metadata": {},
   "outputs": [],
   "source": [
    "# estimate covariance matrix, expected returns"
   ]
  },
  {
   "cell_type": "code",
   "execution_count": null,
   "id": "60f86af1",
   "metadata": {},
   "outputs": [],
   "source": [
    "# pyportfolioOpt, maximise Sharpe ratio, minimum volatility, add constraints"
   ]
  },
  {
   "cell_type": "code",
   "execution_count": null,
   "id": "e9bccaf7",
   "metadata": {},
   "outputs": [],
   "source": [
    "# visualise efficient frontier, optimal weights"
   ]
  }
 ],
 "metadata": {
  "language_info": {
   "name": "python"
  }
 },
 "nbformat": 4,
 "nbformat_minor": 5
}
