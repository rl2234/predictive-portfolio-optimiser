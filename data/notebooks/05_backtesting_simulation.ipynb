{
 "cells": [
  {
   "cell_type": "code",
   "execution_count": null,
   "id": "eaff661d",
   "metadata": {},
   "outputs": [],
   "source": [
    "# define rolling window"
   ]
  },
  {
   "cell_type": "code",
   "execution_count": null,
   "id": "41607e70",
   "metadata": {},
   "outputs": [],
   "source": [
    "# for each window, forecast nect period, re-optimise weights, allocate track returns"
   ]
  },
  {
   "cell_type": "code",
   "execution_count": null,
   "id": "81eeef67",
   "metadata": {},
   "outputs": [],
   "source": [
    "# track cumulative returns, drawdowns, CAGR, volatility"
   ]
  }
 ],
 "metadata": {
  "language_info": {
   "name": "python"
  }
 },
 "nbformat": 4,
 "nbformat_minor": 5
}
